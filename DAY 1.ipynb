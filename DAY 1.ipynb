{
 "cells": [
  {
   "cell_type": "code",
   "execution_count": 1,
   "id": "34dc90f2",
   "metadata": {},
   "outputs": [],
   "source": [
    "fruits = [\"Mango\", \"Grapes\" , \"Orange\" , \"Banana\" , \"Apple\"]"
   ]
  },
  {
   "cell_type": "code",
   "execution_count": 2,
   "id": "5735f3ed",
   "metadata": {},
   "outputs": [
    {
     "name": "stdout",
     "output_type": "stream",
     "text": [
      "['Mango', 'Grapes', 'Orange', 'Banana', 'Apple']\n"
     ]
    }
   ],
   "source": [
    "print(fruits)"
   ]
  },
  {
   "cell_type": "code",
   "execution_count": 3,
   "id": "b421a633",
   "metadata": {},
   "outputs": [
    {
     "data": {
      "text/plain": [
       "'Apple'"
      ]
     },
     "execution_count": 3,
     "metadata": {},
     "output_type": "execute_result"
    }
   ],
   "source": [
    "fruits.pop()"
   ]
  },
  {
   "cell_type": "code",
   "execution_count": 4,
   "id": "232514a6",
   "metadata": {},
   "outputs": [
    {
     "name": "stdout",
     "output_type": "stream",
     "text": [
      "['Mango', 'Grapes', 'Orange', 'Banana']\n"
     ]
    }
   ],
   "source": [
    "print(fruits)"
   ]
  },
  {
   "cell_type": "code",
   "execution_count": 5,
   "id": "4f6786c6",
   "metadata": {},
   "outputs": [],
   "source": [
    "fruits.append(\"Pineapple\")"
   ]
  },
  {
   "cell_type": "code",
   "execution_count": 6,
   "id": "f722848e",
   "metadata": {},
   "outputs": [
    {
     "name": "stdout",
     "output_type": "stream",
     "text": [
      "['Mango', 'Grapes', 'Orange', 'Banana', 'Pineapple']\n"
     ]
    }
   ],
   "source": [
    "print(fruits)"
   ]
  },
  {
   "cell_type": "code",
   "execution_count": 7,
   "id": "8f550c14",
   "metadata": {},
   "outputs": [],
   "source": [
    "my_tuple = {97, \"Siddesh\", 21, \"India\"}"
   ]
  },
  {
   "cell_type": "code",
   "execution_count": 8,
   "id": "9e49773a",
   "metadata": {},
   "outputs": [
    {
     "name": "stdout",
     "output_type": "stream",
     "text": [
      "{'India', 'Siddesh', 21, 97}\n"
     ]
    }
   ],
   "source": [
    "print(my_tuple)"
   ]
  },
  {
   "cell_type": "code",
   "execution_count": 9,
   "id": "92e788a0",
   "metadata": {},
   "outputs": [],
   "source": [
    "fruits.insert(1, \"Apple\")"
   ]
  },
  {
   "cell_type": "code",
   "execution_count": 10,
   "id": "9cc5d1e0",
   "metadata": {},
   "outputs": [
    {
     "name": "stdout",
     "output_type": "stream",
     "text": [
      "['Mango', 'Apple', 'Grapes', 'Orange', 'Banana', 'Pineapple']\n"
     ]
    }
   ],
   "source": [
    "print(fruits)"
   ]
  },
  {
   "cell_type": "code",
   "execution_count": 11,
   "id": "2ca54325",
   "metadata": {},
   "outputs": [],
   "source": [
    "my_dict = {\"Car\" : \"BMW\",\n",
    "           \"Color\" : \"Black\", \n",
    "           \"Model\" : \"M5CS\", \n",
    "           \"Engine\" : \"4.4L V12\", \n",
    "           \"Wheels\" : \"Four Alloy Wheels\"}"
   ]
  },
  {
   "cell_type": "code",
   "execution_count": 12,
   "id": "fb3d39b9",
   "metadata": {},
   "outputs": [
    {
     "name": "stdout",
     "output_type": "stream",
     "text": [
      "{'Car': 'BMW', 'Color': 'Black', 'Model': 'M5CS', 'Engine': '4.4L V12', 'Wheels': 'Four Alloy Wheels'}\n"
     ]
    }
   ],
   "source": [
    "print(my_dict)"
   ]
  },
  {
   "cell_type": "code",
   "execution_count": 13,
   "id": "4465fddc",
   "metadata": {},
   "outputs": [
    {
     "name": "stdout",
     "output_type": "stream",
     "text": [
      "Black\n"
     ]
    }
   ],
   "source": [
    "print(my_dict[\"Color\"])"
   ]
  },
  {
   "cell_type": "code",
   "execution_count": 14,
   "id": "0933993f",
   "metadata": {},
   "outputs": [
    {
     "data": {
      "text/plain": [
       "dict_keys(['Car', 'Color', 'Model', 'Engine', 'Wheels'])"
      ]
     },
     "execution_count": 14,
     "metadata": {},
     "output_type": "execute_result"
    }
   ],
   "source": [
    "my_dict.keys()"
   ]
  },
  {
   "cell_type": "code",
   "execution_count": 15,
   "id": "984dab2f",
   "metadata": {},
   "outputs": [
    {
     "data": {
      "text/plain": [
       "dict_values(['BMW', 'Black', 'M5CS', '4.4L V12', 'Four Alloy Wheels'])"
      ]
     },
     "execution_count": 15,
     "metadata": {},
     "output_type": "execute_result"
    }
   ],
   "source": [
    "my_dict.values()"
   ]
  },
  {
   "cell_type": "code",
   "execution_count": 16,
   "id": "5e69b070",
   "metadata": {},
   "outputs": [
    {
     "name": "stdout",
     "output_type": "stream",
     "text": [
      "Car -> BMW\n",
      "Color -> Black\n",
      "Model -> M5CS\n",
      "Engine -> 4.4L V12\n",
      "Wheels -> Four Alloy Wheels\n"
     ]
    }
   ],
   "source": [
    "for key, value in my_dict.items():\n",
    "    print(f\"{key} -> {value}\")"
   ]
  },
  {
   "cell_type": "code",
   "execution_count": 17,
   "id": "6596c71a",
   "metadata": {},
   "outputs": [],
   "source": [
    "my_set = {\"Apple\", \"Mango\", \"Apple\", \"Berries\"}"
   ]
  },
  {
   "cell_type": "code",
   "execution_count": 18,
   "id": "bdad677d",
   "metadata": {},
   "outputs": [
    {
     "name": "stdout",
     "output_type": "stream",
     "text": [
      "{'Mango', 'Berries', 'Apple'}\n"
     ]
    }
   ],
   "source": [
    "print(my_set)"
   ]
  },
  {
   "cell_type": "code",
   "execution_count": 19,
   "id": "deb2bf54",
   "metadata": {},
   "outputs": [
    {
     "name": "stdout",
     "output_type": "stream",
     "text": [
      "6\n",
      "8\n",
      "10\n",
      "12\n",
      "14\n",
      "16\n",
      "18\n",
      "20\n",
      "22\n",
      "24\n",
      "26\n",
      "28\n",
      "30\n",
      "32\n",
      "34\n",
      "36\n",
      "38\n",
      "40\n",
      "42\n",
      "44\n",
      "46\n",
      "48\n",
      "50\n"
     ]
    }
   ],
   "source": [
    "def print_even_nums():\n",
    "    for num in range(5,51):\n",
    "        if num % 2 == 0:\n",
    "            print(num)\n",
    "\n",
    "print_even_nums()"
   ]
  },
  {
   "cell_type": "code",
   "execution_count": 29,
   "id": "ee466391",
   "metadata": {},
   "outputs": [
    {
     "name": "stdout",
     "output_type": "stream",
     "text": [
      "PS Mdrn Cllg f ngnrng\n"
     ]
    }
   ],
   "source": [
    "def print_consonants_only(text):\n",
    "    vowels = \"aeiouAEIOU\"\n",
    "    result = \"\"\n",
    "\n",
    "    for char in text:\n",
    "        if char == \" \":\n",
    "            result += \" \"\n",
    "        elif char.isalpha() and char not in vowels:\n",
    "            result += char\n",
    "\n",
    "    print(result)\n",
    "\n",
    "college = \"PES Modern College of Engineering\"\n",
    "\n",
    "print_consonants_only(college)\n"
   ]
  },
  {
   "cell_type": "code",
   "execution_count": 28,
   "id": "cb49cf6f",
   "metadata": {},
   "outputs": [
    {
     "name": "stdout",
     "output_type": "stream",
     "text": [
      "Enter a number: 10\n",
      "10 x 1 = 10\n",
      "10 x 2 = 20\n",
      "10 x 3 = 30\n",
      "10 x 4 = 40\n",
      "10 x 5 = 50\n",
      "10 x 6 = 60\n",
      "10 x 7 = 70\n",
      "10 x 8 = 80\n",
      "10 x 9 = 90\n",
      "10 x 10 = 100\n"
     ]
    }
   ],
   "source": [
    "num = int(input(\"Enter a number: \"))\n",
    "for i in range(1, 11):\n",
    "    print(f\"{num} x {i} = {num * i}\")"
   ]
  },
  {
   "cell_type": "code",
   "execution_count": 30,
   "id": "8cf52174",
   "metadata": {},
   "outputs": [],
   "source": [
    "class Dog:\n",
    "    attr1 = 'mammal'\n",
    "    \n",
    "    def __init__(self,name):\n",
    "        self.name = name\n",
    "        \n",
    "    def speak(self):\n",
    "        print(\"My name is {}\".format(self.name))"
   ]
  },
  {
   "cell_type": "code",
   "execution_count": 31,
   "id": "958ffef2",
   "metadata": {},
   "outputs": [
    {
     "name": "stdout",
     "output_type": "stream",
     "text": [
      "My name is Tuffy\n"
     ]
    }
   ],
   "source": [
    "Tuffy = Dog(\"Tuffy\")\n",
    "Tuffy.speak()"
   ]
  },
  {
   "cell_type": "code",
   "execution_count": 2,
   "id": "bdabc6b4",
   "metadata": {},
   "outputs": [
    {
     "name": "stdout",
     "output_type": "stream",
     "text": [
      "Student1 Details:\n",
      "Name: Siddesh\n",
      "Roll No: 1311\n",
      "Student2 Details:\n",
      "Age: 21\n",
      "Expected Salary: Rs6000000\n"
     ]
    }
   ],
   "source": [
    "class Student1:\n",
    "    def __init__(self, name, roll_no):\n",
    "        self.name = name\n",
    "        self.roll_no = roll_no\n",
    "        \n",
    "    def display(self):\n",
    "        print(f\"Name: {self.name}\")\n",
    "        print(f\"Roll No: {self.roll_no}\")\n",
    "\n",
    "class Student2:\n",
    "    def __init__(self, age, expected_salary):\n",
    "        self.age = age\n",
    "        self.expected_salary = expected_salary\n",
    "        \n",
    "    def display(self):\n",
    "        print(f\"Age: {self.age}\")\n",
    "        print(f\"Expected Salary: Rs{self.expected_salary}\")\n",
    "        \n",
    "s1 = Student1(\"Siddesh\", 1311)\n",
    "s2 = Student2(21, 6000000)\n",
    "\n",
    "print(\"Student1 Details:\")\n",
    "s1.display()\n",
    "\n",
    "print(\"Student2 Details:\")\n",
    "s2.display()"
   ]
  },
  {
   "cell_type": "code",
   "execution_count": null,
   "id": "26eec431",
   "metadata": {},
   "outputs": [],
   "source": []
  }
 ],
 "metadata": {
  "kernelspec": {
   "display_name": "Python 3 (ipykernel)",
   "language": "python",
   "name": "python3"
  },
  "language_info": {
   "codemirror_mode": {
    "name": "ipython",
    "version": 3
   },
   "file_extension": ".py",
   "mimetype": "text/x-python",
   "name": "python",
   "nbconvert_exporter": "python",
   "pygments_lexer": "ipython3",
   "version": "3.11.3"
  }
 },
 "nbformat": 4,
 "nbformat_minor": 5
}
